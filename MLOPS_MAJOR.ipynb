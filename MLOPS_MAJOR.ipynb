{
 "cells": [
  {
   "cell_type": "code",
   "execution_count": null,
   "id": "03ba6583-3797-4d8b-bd60-3a982e73d309",
   "metadata": {},
   "outputs": [],
   "source": [
    "#QUESTION 1"
   ]
  },
  {
   "cell_type": "code",
   "execution_count": 14,
   "id": "b2c37b42-20eb-47de-a0f4-62cc269d0671",
   "metadata": {},
   "outputs": [],
   "source": [
    "from sklearn.datasets import load_iris\n",
    "import pandas as pd\n",
    "import numpy as np\n",
    "from sklearn.model_selection import train_test_split, cross_val_score\n",
    "from sklearn.preprocessing import StandardScaler\n",
    "import mlflow\n"
   ]
  },
  {
   "cell_type": "code",
   "execution_count": 17,
   "id": "963f9823-802d-42af-a401-dca37d63ed2d",
   "metadata": {},
   "outputs": [
    {
     "name": "stdout",
     "output_type": "stream",
     "text": [
      "Data Preparation Complete\n",
      "       sepal length (cm)  sepal width (cm)  petal length (cm)  \\\n",
      "count         150.000000        150.000000         150.000000   \n",
      "mean            5.843333          3.057333           3.758000   \n",
      "std             0.828066          0.435866           1.765298   \n",
      "min             4.300000          2.000000           1.000000   \n",
      "25%             5.100000          2.800000           1.600000   \n",
      "50%             5.800000          3.000000           4.350000   \n",
      "75%             6.400000          3.300000           5.100000   \n",
      "max             7.900000          4.400000           6.900000   \n",
      "\n",
      "       petal width (cm)      target  \n",
      "count        150.000000  150.000000  \n",
      "mean           1.199333    1.000000  \n",
      "std            0.762238    0.819232  \n",
      "min            0.100000    0.000000  \n",
      "25%            0.300000    0.000000  \n",
      "50%            1.300000    1.000000  \n",
      "75%            1.800000    2.000000  \n",
      "max            2.500000    2.000000  \n"
     ]
    }
   ],
   "source": [
    "class IrisDataProcessor:\n",
    "    def __init__(self):\n",
    "        self.data = load_iris()\n",
    "        self.df = None\n",
    "        self.X_train, self.X_test, self.y_train, self.y_test = None, None, None, None\n",
    "        self.scaler = StandardScaler()\n",
    "    def prepare_data(self):\n",
    "        self.df = pd.DataFrame(data=self.data.data, columns=self.data.feature_names)\n",
    "        self.df['target'] = self.data.target\n",
    "        \n",
    "        X = self.df[self.data.feature_names]\n",
    "        X_scaled = self.scaler.fit_transform(X)\n",
    "        y = self.df['target']\n",
    "\n",
    "        #splitting data\n",
    "        \n",
    "        self.X_train, self.X_test, self.y_train, self.y_test = train_test_split(\n",
    "            X_scaled, y, test_size=0.2, random_state=42, stratify=y\n",
    "        )\n",
    "        return self.X_train, self.X_test, self.y_train, self.y_test\n",
    "        \n",
    "    def get_feature_stats(self):\n",
    "        return self.df.describe()\n",
    "\n",
    "processor = IrisDataProcessor()\n",
    "X_train, X_test, y_train, y_test = processor.prepare_data()\n",
    "print(\"Data Preparation Complete\")\n",
    "\n",
    "print(processor.get_feature_stats())"
   ]
  },
  {
   "cell_type": "code",
   "execution_count": 18,
   "id": "1b5f60cc-2363-40e1-a937-c917d98b304d",
   "metadata": {},
   "outputs": [],
   "source": [
    "#Question 2: Experiment Tracking and Model Development"
   ]
  },
  {
   "cell_type": "code",
   "execution_count": 37,
   "id": "b9fd53cd-3e30-4f3b-939d-493b1b5a742c",
   "metadata": {},
   "outputs": [
    {
     "name": "stderr",
     "output_type": "stream",
     "text": [
      "2024/11/12 12:54:27 INFO mlflow.tracking._tracking_service.client: 🏃 View run Logistic Regression at:  http://127.0.0.1:5001/#/experiments/508691177518362002/runs/e86da228d4bb4d63b072f1c1e7560ffc.\n",
      "2024/11/12 12:54:27 INFO mlflow.tracking._tracking_service.client: 🧪 View experiment at:  http://127.0.0.1:5001/#/experiments/508691177518362002.\n",
      "2024/11/12 12:54:28 INFO mlflow.tracking._tracking_service.client: 🏃 View run Random Forest at:  http://127.0.0.1:5001/#/experiments/508691177518362002/runs/b4b0acbdd74b4508878f4f1d8bebbca3.\n",
      "2024/11/12 12:54:28 INFO mlflow.tracking._tracking_service.client: 🧪 View experiment at:  http://127.0.0.1:5001/#/experiments/508691177518362002.\n"
     ]
    },
    {
     "name": "stdout",
     "output_type": "stream",
     "text": [
      "Experiment run complete.\n",
      "Model: Logistic Regression\n",
      "Cross-validation Accuracy: 0.9583333333333334\n",
      "Accuracy: 0.9333333333333333\n",
      "Precision: 0.9333333333333332\n",
      "Recall: 0.9333333333333332\n",
      "Logged to MLflow\n",
      "Model: Random Forest\n",
      "Cross-validation Accuracy: 0.9583333333333334\n",
      "Accuracy: 0.9666666666666667\n",
      "Precision: 0.9696969696969697\n",
      "Recall: 0.9666666666666667\n",
      "Logged to MLflow\n"
     ]
    }
   ],
   "source": [
    "from sklearn.linear_model import LogisticRegression\n",
    "from sklearn.ensemble import RandomForestClassifier\n",
    "from sklearn.metrics import accuracy_score, precision_score, recall_score\n",
    "from sklearn.model_selection import train_test_split, cross_val_score\n",
    "\n",
    "class IrisExperiment:\n",
    "    def __init__(self, data_processor):\n",
    "        self.data_processor = data_processor\n",
    "        mlflow.set_experiment(\"Iris_Classification\")\n",
    "        mlflow.set_tracking_uri(\" http://127.0.0.1:5001/\")\n",
    "        self.model_params = []  # to store each model's result\n",
    "\n",
    "    def run_experiment(self):\n",
    "        # Train and log multiple models\n",
    "        models = {\n",
    "            \"Logistic Regression\": LogisticRegression(max_iter=200),\n",
    "            \"Random Forest\": RandomForestClassifier(n_estimators=100)\n",
    "        }\n",
    "        \n",
    "\n",
    "        for model_name, model in models.items():\n",
    "            with mlflow.start_run(run_name=model_name):\n",
    "                scores = cross_val_score(model, self.data_processor.X_train, self.data_processor.y_train, cv=5)\n",
    "                cv_accuracy = np.mean(scores)\n",
    "\n",
    "                model.fit(self.data_processor.X_train, self.data_processor.y_train)\n",
    "                y_pred = model.predict(self.data_processor.X_test)\n",
    "\n",
    "                accuracy = accuracy_score(self.data_processor.y_test, y_pred)\n",
    "                precision = precision_score(self.data_processor.y_test, y_pred, average='macro')\n",
    "                recall = recall_score(self.data_processor.y_test, y_pred, average='macro')            \n",
    "\n",
    "                mlflow.log_param(\"model_name\", model_name)\n",
    "                mlflow.log_metric(\"cross_val_accuracy\", cv_accuracy)\n",
    "                mlflow.log_metric(\"accuracy\", accuracy)\n",
    "                mlflow.log_metric(\"precision\", precision)\n",
    "                mlflow.log_metric(\"recall\", recall)\n",
    "\n",
    "                self.model_params.append({\n",
    "                    'model_name': model_name, \n",
    "                    'cv_accuracy': cv_accuracy, \n",
    "                    'accuracy': accuracy, \n",
    "                    'precision': precision, \n",
    "                    'recall': recall\n",
    "                })\n",
    "\n",
    "        print(\"Experiment run complete.\")\n",
    "        return self.model_params\n",
    "\n",
    "    def log_results(self):\n",
    "        for param in self.model_params:\n",
    "            print(f\"Model: {param['model_name']}\")\n",
    "            print(f\"Cross-validation Accuracy: {param['cv_accuracy']}\")\n",
    "            print(f\"Accuracy: {param['accuracy']}\")\n",
    "            print(f\"Precision: {param['precision']}\")\n",
    "            print(f\"Recall: {param['recall']}\")\n",
    "            print(\"Logged to MLflow\")\n",
    "\n",
    "processor = IrisDataProcessor()\n",
    "processor.prepare_data()\n",
    "\n",
    "experiment = IrisExperiment(processor)\n",
    "experiment.run_experiment()\n",
    "experiment.log_results()"
   ]
  },
  {
   "cell_type": "code",
   "execution_count": 32,
   "id": "dde387de-f0f2-42d7-9231-5f44f1aa42ef",
   "metadata": {},
   "outputs": [
    {
     "name": "stderr",
     "output_type": "stream",
     "text": [
      "2024/11/12 12:44:32 INFO mlflow.tracking._tracking_service.client: 🏃 View run illustrious-flea-711 at:  http://127.0.0.1:5001/#/experiments/508691177518362002/runs/ed961370e58a4512a3ba98f84284f041.\n",
      "2024/11/12 12:44:32 INFO mlflow.tracking._tracking_service.client: 🧪 View experiment at:  http://127.0.0.1:5001/#/experiments/508691177518362002.\n"
     ]
    }
   ],
   "source": [
    "mlflow.end_run()"
   ]
  },
  {
   "cell_type": "code",
   "execution_count": 35,
   "id": "11e12b36-ef01-4767-9269-342afff42386",
   "metadata": {},
   "outputs": [],
   "source": [
    "#Question 3"
   ]
  },
  {
   "cell_type": "code",
   "execution_count": null,
   "id": "ced3a2a5-ace7-4d64-8fd5-916df2b89f3f",
   "metadata": {},
   "outputs": [],
   "source": []
  }
 ],
 "metadata": {
  "kernelspec": {
   "display_name": "Python 3 (ipykernel)",
   "language": "python",
   "name": "python3"
  },
  "language_info": {
   "codemirror_mode": {
    "name": "ipython",
    "version": 3
   },
   "file_extension": ".py",
   "mimetype": "text/x-python",
   "name": "python",
   "nbconvert_exporter": "python",
   "pygments_lexer": "ipython3",
   "version": "3.12.4"
  }
 },
 "nbformat": 4,
 "nbformat_minor": 5
}
